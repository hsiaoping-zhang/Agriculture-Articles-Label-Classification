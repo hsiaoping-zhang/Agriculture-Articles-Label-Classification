{
 "cells": [
  {
   "cell_type": "markdown",
   "id": "8bee3321",
   "metadata": {},
   "source": [
    "# 第一層過濾可能的文章組合\n",
    "\n",
    "如果文章內提到相同的作物則先歸類為一區，再在內部進行比較蟲害及疫病的重疊程度"
   ]
  },
  {
   "cell_type": "code",
   "execution_count": 3,
   "id": "bebaa44a",
   "metadata": {},
   "outputs": [],
   "source": [
    "import pandas as pd\n",
    "import numpy as np"
   ]
  },
  {
   "cell_type": "code",
   "execution_count": 8,
   "id": "6829c333",
   "metadata": {
    "scrolled": true
   },
   "outputs": [
    {
     "name": "stdout",
     "output_type": "stream",
     "text": [
      "{'文旦柚': 0, '文旦': 0, '麻豆文旦': 0, '水稻': 1, '青蔥': 2, '蔥': 2, '龍鬚菜': 3, '韭菜': 4, '甘藍': 5, '西瓜': 6, '芋頭': 7, '香蕉': 8, '蕉農': 8, '蕉園': 8, '蕉株': 8, '甘藷': 9, '玉米': 10, '胡瓜': 11, '絲瓜': 12, '洋香瓜': 13, '菠菜': 14, '萵苣': 15, '十字花科': 16, '豆科': 17, '大蒜': 18, '茼蒿': 19, '落花生': 20, '花生': 20, '蔬菜': 21, '田菁': 22, '毛豆': 23, '豌豆': 24, '蓮花': 25, '梨': 26, '中國梨': 26, '高接梨': 26, '荔枝': 27, '玉荷包荔枝': 27, '龍眼': 28, '蓮霧': 29, '欒樹': 30, '台灣欒樹': 30, '果樹': 31, '草莓': 32, '草莓苗期': 32, '柑橘': 33, '紅棗': 34, '柿子': 35, '甜柿': 35, '桃子': 36, '桃': 36, '李子': 37, '枇杷': 38, '楊桃': 39, '檬果': 40, '芒果': 40, '木瓜': 41, '番石榴': 42, '芭樂': 42, '檸檬': 43, '印度棗': 44, '番茄': 45, '小果番茄': 45, '橙蜜香番茄': 45, '橙果小番茄': 45, '馬鈴薯': 46, '紅龍果': 47, '棗': 48, '蜜棗': 49, '瓜果類': 50, '豆菜類': 51, '洋蔥': 52, '豆類': 53, '龍柏': 54, '棗子': 55, '高粱': 56, '大豆': 57, '香瓜': 58, '南瓜': 59, '橄欖': 60, '葡萄': 61, '洋桔梗': 62, '柑桔': 63, '百香果': 64, '番荔枝': 65, '鳳梨釋迦': 66, '釋迦': 66, '樹豆': 67, '桶柑': 68, '茂谷柑': 69, '臍橙': 70, '晚崙西亞': 71, '晚崙西亞橙': 71, '丁香': 71, '荖花': 72, '荖葉': 73, '水蜜桃': 74, '小米': 75, '金針': 76, '金針菜': 76, '蘭花': 77, '鳳梨': 78, '酪梨': 79, '杭菊': 80, '花卉': 81, '白柚': 82, '椪柑': 83, '柳橙': 84, '柳丁': 84, '西施柚': 85, '蔬果類': 86, '明尼吉柚': 87, '葡萄柚': 88, '葉菜類': 89, '雜糧': 90, '雜草': 91, '葫蘆科': 92, '茄科': 93, '景觀樹木': 94, '花木': 95, '特作': 96, '芸香科': 97, '綠肥作物': 98, '牧草': 99, '茶': 100, '柚類': 101, '禾本科雜草': 102, '甘蔗': 103, '甘庶': 103, '小麥': 104, '梅': 105, '可可椰子': 106, '結球白菜': 107, '苦瓜': 108, '扁蒲': 109, '豇豆': 110, '蔓性作物': 111, '蕹菜': 112, '秋葵': 113, '花椰菜': 114, '園藝作物': 115, '芥菜': 116, '白菜': 117, '蕪菁': 118, '聖誕紅': 119, '薰衣草': 120, '瓜類': 121, '竹筍': 122, '蘿蔔': 123, '多花菊': 124, '玫瑰': 125, '唐菖蒲': 126, '唐菖浦': 126, '百合': 127, '甜椒': 128, '辣椒': 129, '茄子': 130, '胡麻': 131, '花胡瓜': 132, '九層塔': 133, '咖啡': 134, '桑': 135, '非洲菊': 136, '佛手瓜': 137, '菊科': 138, '蔥科': 139, '七里香': 140, '月桔': 140, '烏柑仔': 141, '青江白菜': 142, '包心白菜': 143, '包心芥菜': 144, '芥藍菜': 145, '樹薯': 146, '朱槿': 147, '火鶴花': 148, '蝴蝶蘭': 149, '觀葉植物': 150, '油菜': 151, '薏苡': 152, '茭白筍': 153, '茭白荀': 153, '筊白筍': 153, '甜蜜桃': 154, '小白菜': 155, '青花菜': 156, '花菜類': 157, '菸草': 158, '草花類': 159, '盆花類': 160, '結球菜類': 161, '飲料作物': 162, '蘇鐵': 163, '薇甘菊': 164, '小花蔓澤蘭': 164, '莧菜': 165, '空心菜': 166, '向日葵': 167, '青梗白菜': 168, '蔓澤蘭': 169, '心型薇甘菊': 169, '旋花科': 170, '天南星科': 171, '睡蓮科': 172, '茄果類': 173, '瓜菜類': 174, '紅豆': 175, '龍葵': 176, '曼陀羅': 177, '狼尾草': 178, '盤固拉草': 179, '林木': 180, '觀賞植物': 181, '棉花': 182, '果菜類': 183, '無患子科': 184, '洛神葵': 185, '冬瓜': 186, '黑豆': 187}\n"
     ]
    }
   ],
   "source": [
    "# 將作物名稱訂為一個 dictionary，並對同義異字的字詞對應到相同的數字\n",
    "file = open(\"train/KeyWords/02crop_list.csv\", \"r\", encoding='utf-8-sig')\n",
    "rows = file.readlines()\n",
    "crop_dict, crop_list = {}, []\n",
    "\n",
    "count = 0\n",
    "for row in rows:\n",
    "    items = row.strip(\"\\n\").split(\",\")\n",
    "    items = [item for item in items if (len(item) > 0 and item != \" \")]  # 去掉多餘元素\n",
    "    for item in items:\n",
    "        crop_dict[item] = count\n",
    "    crop_list.append(items[0])\n",
    "    count += 1\n",
    "print(crop_dict)"
   ]
  },
  {
   "cell_type": "code",
   "execution_count": 14,
   "id": "8aeaf63a",
   "metadata": {},
   "outputs": [],
   "source": [
    "currentFolder = \"train\""
   ]
  },
  {
   "cell_type": "markdown",
   "id": "5b3bd6e8",
   "metadata": {},
   "source": [
    "### 聚合同一類作物文章\n",
    "創造一個 DataFrame，將相同文章的文章編號記錄下來"
   ]
  },
  {
   "cell_type": "code",
   "execution_count": 6,
   "id": "5c241e3b",
   "metadata": {},
   "outputs": [],
   "source": [
    "def put_to_df(fileNum):\n",
    "    file = open(f\"{currentFolder}/data/{fileNum}.csv\", \"r\")\n",
    "    rows = file.readlines()\n",
    "\n",
    "    # extract crop info\n",
    "    crop_row = rows[0].strip(\"\\n\").split(\",\")\n",
    "    # too many crops, ignore it\n",
    "    if(len(crop_row) > 5):\n",
    "        if(\"香蕉\" in crop_row):\n",
    "            crop_row = [\"香蕉\"]\n",
    "        elif(\"水稻\" in crop_row):\n",
    "            crop_row = [\"水稻\"]\n",
    "\n",
    "    for item in crop_row:\n",
    "        if(item == ''):\n",
    "            continue\n",
    "        index = crop_dict[item]\n",
    "        if(int(fileNum) not in df.iloc[index][\"articles\"]):\n",
    "            df.iloc[index][\"articles\"].append(int(fileNum))"
   ]
  },
  {
   "cell_type": "code",
   "execution_count": 15,
   "id": "112a216f",
   "metadata": {},
   "outputs": [
    {
     "data": {
      "text/html": [
       "<div>\n",
       "<style scoped>\n",
       "    .dataframe tbody tr th:only-of-type {\n",
       "        vertical-align: middle;\n",
       "    }\n",
       "\n",
       "    .dataframe tbody tr th {\n",
       "        vertical-align: top;\n",
       "    }\n",
       "\n",
       "    .dataframe thead th {\n",
       "        text-align: right;\n",
       "    }\n",
       "</style>\n",
       "<table border=\"1\" class=\"dataframe\">\n",
       "  <thead>\n",
       "    <tr style=\"text-align: right;\">\n",
       "      <th></th>\n",
       "      <th>0</th>\n",
       "      <th>1</th>\n",
       "      <th>2</th>\n",
       "      <th>3</th>\n",
       "      <th>articles</th>\n",
       "    </tr>\n",
       "  </thead>\n",
       "  <tbody>\n",
       "    <tr>\n",
       "      <th>0</th>\n",
       "      <td>文旦柚</td>\n",
       "      <td>文旦</td>\n",
       "      <td>麻豆文旦</td>\n",
       "      <td>NaN</td>\n",
       "      <td>[]</td>\n",
       "    </tr>\n",
       "    <tr>\n",
       "      <th>1</th>\n",
       "      <td>水稻</td>\n",
       "      <td>NaN</td>\n",
       "      <td>NaN</td>\n",
       "      <td>NaN</td>\n",
       "      <td>[]</td>\n",
       "    </tr>\n",
       "    <tr>\n",
       "      <th>2</th>\n",
       "      <td>青蔥</td>\n",
       "      <td>蔥</td>\n",
       "      <td>NaN</td>\n",
       "      <td>NaN</td>\n",
       "      <td>[]</td>\n",
       "    </tr>\n",
       "    <tr>\n",
       "      <th>3</th>\n",
       "      <td>龍鬚菜</td>\n",
       "      <td>NaN</td>\n",
       "      <td>NaN</td>\n",
       "      <td>NaN</td>\n",
       "      <td>[]</td>\n",
       "    </tr>\n",
       "    <tr>\n",
       "      <th>4</th>\n",
       "      <td>韭菜</td>\n",
       "      <td>NaN</td>\n",
       "      <td>NaN</td>\n",
       "      <td>NaN</td>\n",
       "      <td>[]</td>\n",
       "    </tr>\n",
       "    <tr>\n",
       "      <th>5</th>\n",
       "      <td>甘藍</td>\n",
       "      <td>NaN</td>\n",
       "      <td>NaN</td>\n",
       "      <td>NaN</td>\n",
       "      <td>[]</td>\n",
       "    </tr>\n",
       "    <tr>\n",
       "      <th>6</th>\n",
       "      <td>西瓜</td>\n",
       "      <td>NaN</td>\n",
       "      <td>NaN</td>\n",
       "      <td>NaN</td>\n",
       "      <td>[]</td>\n",
       "    </tr>\n",
       "    <tr>\n",
       "      <th>7</th>\n",
       "      <td>芋頭</td>\n",
       "      <td>NaN</td>\n",
       "      <td>NaN</td>\n",
       "      <td>NaN</td>\n",
       "      <td>[]</td>\n",
       "    </tr>\n",
       "    <tr>\n",
       "      <th>8</th>\n",
       "      <td>香蕉</td>\n",
       "      <td>蕉農</td>\n",
       "      <td>蕉園</td>\n",
       "      <td>蕉株</td>\n",
       "      <td>[]</td>\n",
       "    </tr>\n",
       "    <tr>\n",
       "      <th>9</th>\n",
       "      <td>甘藷</td>\n",
       "      <td>NaN</td>\n",
       "      <td>NaN</td>\n",
       "      <td>NaN</td>\n",
       "      <td>[]</td>\n",
       "    </tr>\n",
       "  </tbody>\n",
       "</table>\n",
       "</div>"
      ],
      "text/plain": [
       "     0    1     2    3 articles\n",
       "0  文旦柚   文旦  麻豆文旦  NaN       []\n",
       "1   水稻  NaN   NaN  NaN       []\n",
       "2   青蔥    蔥   NaN  NaN       []\n",
       "3  龍鬚菜  NaN   NaN  NaN       []\n",
       "4   韭菜  NaN   NaN  NaN       []\n",
       "5   甘藍  NaN   NaN  NaN       []\n",
       "6   西瓜  NaN   NaN  NaN       []\n",
       "7   芋頭  NaN   NaN  NaN       []\n",
       "8   香蕉   蕉農    蕉園   蕉株       []\n",
       "9   甘藷  NaN   NaN  NaN       []"
      ]
     },
     "execution_count": 15,
     "metadata": {},
     "output_type": "execute_result"
    }
   ],
   "source": [
    "df = pd.read_csv(\"train/KeyWords/02crop_list.csv\", encoding='utf-8-sig', header=None)\n",
    "df[\"articles\"] = pd.Series([[] for i in range(len(df))])\n",
    "df.head(10)"
   ]
  },
  {
   "cell_type": "code",
   "execution_count": 17,
   "id": "2127fda2",
   "metadata": {},
   "outputs": [
    {
     "name": "stdout",
     "output_type": "stream",
     "text": [
      "finish 561\n"
     ]
    }
   ],
   "source": [
    "# scan 每個 file 並放到 df 當中\n",
    "from os import listdir\n",
    "from os.path import isfile, isdir, join\n",
    "\n",
    "path = f\"{currentFolder}/data\"\n",
    "files = listdir(path)\n",
    "\n",
    "for f in files:\n",
    "    fullpath = join(path, f)\n",
    "    if isfile(fullpath):\n",
    "        if(\".csv\" not in fullpath):\n",
    "            continue\n",
    "        fileNum = f.split(\".\")[0]\n",
    "        put_to_df(fileNum)\n",
    "print(\"finish\", len(files))"
   ]
  },
  {
   "cell_type": "code",
   "execution_count": 22,
   "id": "478bd71b",
   "metadata": {},
   "outputs": [
    {
     "data": {
      "text/html": [
       "<div>\n",
       "<style scoped>\n",
       "    .dataframe tbody tr th:only-of-type {\n",
       "        vertical-align: middle;\n",
       "    }\n",
       "\n",
       "    .dataframe tbody tr th {\n",
       "        vertical-align: top;\n",
       "    }\n",
       "\n",
       "    .dataframe thead th {\n",
       "        text-align: right;\n",
       "    }\n",
       "</style>\n",
       "<table border=\"1\" class=\"dataframe\">\n",
       "  <thead>\n",
       "    <tr style=\"text-align: right;\">\n",
       "      <th></th>\n",
       "      <th>0</th>\n",
       "      <th>1</th>\n",
       "      <th>2</th>\n",
       "      <th>3</th>\n",
       "      <th>articles</th>\n",
       "    </tr>\n",
       "  </thead>\n",
       "  <tbody>\n",
       "    <tr>\n",
       "      <th>0</th>\n",
       "      <td>文旦柚</td>\n",
       "      <td>文旦</td>\n",
       "      <td>麻豆文旦</td>\n",
       "      <td>NaN</td>\n",
       "      <td>[747, 381, 351, 387, 1, 783, 636, 780, 733, 68...</td>\n",
       "    </tr>\n",
       "    <tr>\n",
       "      <th>1</th>\n",
       "      <td>水稻</td>\n",
       "      <td>NaN</td>\n",
       "      <td>NaN</td>\n",
       "      <td>NaN</td>\n",
       "      <td>[223, 237, 586, 790, 141, 97, 83, 54, 40, 800,...</td>\n",
       "    </tr>\n",
       "    <tr>\n",
       "      <th>2</th>\n",
       "      <td>青蔥</td>\n",
       "      <td>蔥</td>\n",
       "      <td>NaN</td>\n",
       "      <td>NaN</td>\n",
       "      <td>[544, 741, 620, 797, 3, 874, 726, 1073, 864, 6...</td>\n",
       "    </tr>\n",
       "    <tr>\n",
       "      <th>3</th>\n",
       "      <td>龍鬚菜</td>\n",
       "      <td>NaN</td>\n",
       "      <td>NaN</td>\n",
       "      <td>NaN</td>\n",
       "      <td>[]</td>\n",
       "    </tr>\n",
       "    <tr>\n",
       "      <th>4</th>\n",
       "      <td>韭菜</td>\n",
       "      <td>NaN</td>\n",
       "      <td>NaN</td>\n",
       "      <td>NaN</td>\n",
       "      <td>[885, 968, 824]</td>\n",
       "    </tr>\n",
       "    <tr>\n",
       "      <th>5</th>\n",
       "      <td>甘藍</td>\n",
       "      <td>NaN</td>\n",
       "      <td>NaN</td>\n",
       "      <td>NaN</td>\n",
       "      <td>[784, 862, 876]</td>\n",
       "    </tr>\n",
       "    <tr>\n",
       "      <th>6</th>\n",
       "      <td>西瓜</td>\n",
       "      <td>NaN</td>\n",
       "      <td>NaN</td>\n",
       "      <td>NaN</td>\n",
       "      <td>[755, 973, 262, 879, 107]</td>\n",
       "    </tr>\n",
       "    <tr>\n",
       "      <th>7</th>\n",
       "      <td>芋頭</td>\n",
       "      <td>NaN</td>\n",
       "      <td>NaN</td>\n",
       "      <td>NaN</td>\n",
       "      <td>[81]</td>\n",
       "    </tr>\n",
       "    <tr>\n",
       "      <th>8</th>\n",
       "      <td>香蕉</td>\n",
       "      <td>蕉農</td>\n",
       "      <td>蕉園</td>\n",
       "      <td>蕉株</td>\n",
       "      <td>[1199, 1172, 1173, 1198, 1239, 1207, 1170, 120...</td>\n",
       "    </tr>\n",
       "    <tr>\n",
       "      <th>9</th>\n",
       "      <td>甘藷</td>\n",
       "      <td>NaN</td>\n",
       "      <td>NaN</td>\n",
       "      <td>NaN</td>\n",
       "      <td>[741, 1073, 689, 649, 189, 415]</td>\n",
       "    </tr>\n",
       "  </tbody>\n",
       "</table>\n",
       "</div>"
      ],
      "text/plain": [
       "     0    1     2    3                                           articles\n",
       "0  文旦柚   文旦  麻豆文旦  NaN  [747, 381, 351, 387, 1, 783, 636, 780, 733, 68...\n",
       "1   水稻  NaN   NaN  NaN  [223, 237, 586, 790, 141, 97, 83, 54, 40, 800,...\n",
       "2   青蔥    蔥   NaN  NaN  [544, 741, 620, 797, 3, 874, 726, 1073, 864, 6...\n",
       "3  龍鬚菜  NaN   NaN  NaN                                                 []\n",
       "4   韭菜  NaN   NaN  NaN                                    [885, 968, 824]\n",
       "5   甘藍  NaN   NaN  NaN                                    [784, 862, 876]\n",
       "6   西瓜  NaN   NaN  NaN                          [755, 973, 262, 879, 107]\n",
       "7   芋頭  NaN   NaN  NaN                                               [81]\n",
       "8   香蕉   蕉農    蕉園   蕉株  [1199, 1172, 1173, 1198, 1239, 1207, 1170, 120...\n",
       "9   甘藷  NaN   NaN  NaN                    [741, 1073, 689, 649, 189, 415]"
      ]
     },
     "execution_count": 22,
     "metadata": {},
     "output_type": "execute_result"
    }
   ],
   "source": [
    "df.to_csv(f\"{currentFolder}/crop_df.csv\", index=False)\n",
    "df.head(10)"
   ]
  },
  {
   "cell_type": "code",
   "execution_count": 23,
   "id": "8174e36b",
   "metadata": {},
   "outputs": [
    {
     "name": "stdout",
     "output_type": "stream",
     "text": [
      "文旦柚 21\n",
      "水稻 233\n",
      "青蔥 17\n",
      "韭菜 3\n",
      "甘藍 3\n",
      "西瓜 5\n",
      "芋頭 1\n",
      "香蕉 79\n",
      "甘藷 6\n",
      "玉米 12\n",
      "胡瓜 6\n",
      "絲瓜 4\n",
      "洋香瓜 11\n",
      "菠菜 3\n",
      "萵苣 3\n",
      "十字花科 8\n",
      "豆科 11\n",
      "大蒜 6\n",
      "茼蒿 5\n",
      "落花生 10\n",
      "蔬菜 20\n",
      "田菁 6\n",
      "毛豆 6\n",
      "豌豆 5\n",
      "蓮花 13\n",
      "梨 10\n",
      "荔枝 27\n",
      "龍眼 18\n",
      "蓮霧 11\n",
      "欒樹 2\n",
      "果樹 54\n",
      "草莓 6\n",
      "柑橘 15\n",
      "紅棗 2\n",
      "柿子 6\n",
      "桃子 3\n",
      "李子 1\n",
      "枇杷 6\n",
      "楊桃 15\n",
      "檬果 38\n",
      "木瓜 9\n",
      "番石榴 17\n",
      "印度棗 1\n",
      "番茄 25\n",
      "馬鈴薯 10\n",
      "紅龍果 1\n",
      "棗 4\n",
      "瓜果類 2\n",
      "豆菜類 1\n",
      "洋蔥 3\n",
      "龍柏 5\n",
      "高粱 1\n",
      "大豆 1\n",
      "香瓜 1\n",
      "南瓜 2\n",
      "橄欖 2\n",
      "葡萄 10\n",
      "洋桔梗 1\n",
      "柑桔 19\n",
      "番荔枝 12\n",
      "鳳梨釋迦 8\n",
      "茂谷柑 3\n",
      "臍橙 1\n",
      "蘭花 3\n",
      "酪梨 2\n",
      "花卉 9\n",
      "白柚 12\n",
      "椪柑 7\n",
      "柳橙 7\n",
      "西施柚 1\n",
      "蔬果類 2\n",
      "明尼吉柚 1\n",
      "葡萄柚 3\n",
      "葉菜類 8\n",
      "雜糧 4\n",
      "雜草 79\n",
      "葫蘆科 5\n",
      "茄科 20\n",
      "芸香科 1\n",
      "綠肥作物 5\n",
      "柚類 1\n",
      "苦瓜 1\n",
      "扁蒲 1\n",
      "花椰菜 2\n",
      "園藝作物 2\n",
      "芥菜 2\n",
      "白菜 2\n",
      "聖誕紅 1\n",
      "瓜類 10\n",
      "竹筍 1\n",
      "蘿蔔 1\n",
      "多花菊 1\n",
      "玫瑰 1\n",
      "唐菖蒲 1\n",
      "百合 1\n",
      "甜椒 8\n",
      "辣椒 3\n",
      "茄子 3\n",
      "胡麻 1\n",
      "咖啡 2\n",
      "佛手瓜 1\n",
      "菊科 3\n",
      "蔥科 4\n",
      "青江白菜 1\n",
      "包心白菜 1\n",
      "包心芥菜 1\n",
      "芥藍菜 2\n",
      "甜蜜桃 1\n",
      "小白菜 1\n",
      "青花菜 1\n",
      "花菜類 1\n",
      "菸草 2\n",
      "蘇鐵 2\n",
      "莧菜 1\n",
      "空心菜 1\n",
      "紅豆 3\n",
      "龍葵 1\n",
      "曼陀羅 1\n",
      "觀賞植物 1\n",
      "棉花 1\n",
      "無患子科 2\n",
      "洛神葵 1\n",
      "冬瓜 1\n"
     ]
    }
   ],
   "source": [
    "# 作物文章統計\n",
    "for i in range(len(df)):\n",
    "    count = len(df.iloc[i][\"articles\"])\n",
    "    if(count > 0):\n",
    "        print(df.iloc[i][0], count)"
   ]
  },
  {
   "cell_type": "markdown",
   "id": "a1a0bc9c",
   "metadata": {},
   "source": [
    "### 文章數量呈現\n",
    "水稻文章的數量佔了很大比例"
   ]
  },
  {
   "cell_type": "code",
   "execution_count": 20,
   "id": "d0988907",
   "metadata": {},
   "outputs": [
    {
     "data": {
      "application/vnd.plotly.v1+json": {
       "config": {
        "plotlyServerURL": "https://plot.ly"
       },
       "data": [
        {
         "alignmentgroup": "True",
         "hovertemplate": "作物=%{x}<br>文章數量=%{y}<extra></extra>",
         "legendgroup": "",
         "marker": {
          "color": "#636efa",
          "pattern": {
           "shape": ""
          }
         },
         "name": "",
         "offsetgroup": "",
         "orientation": "v",
         "showlegend": false,
         "textposition": "auto",
         "type": "bar",
         "x": [
          "文旦柚",
          "水稻",
          "青蔥",
          "龍鬚菜",
          "韭菜",
          "甘藍",
          "西瓜",
          "芋頭",
          "香蕉",
          "甘藷",
          "玉米",
          "胡瓜",
          "絲瓜",
          "洋香瓜",
          "菠菜",
          "萵苣",
          "十字花科",
          "豆科",
          "大蒜",
          "茼蒿",
          "落花生",
          "蔬菜",
          "田菁",
          "毛豆",
          "豌豆",
          "蓮花",
          "梨",
          "荔枝",
          "龍眼",
          "蓮霧",
          "欒樹",
          "果樹",
          "草莓",
          "柑橘",
          "紅棗",
          "柿子",
          "桃子",
          "李子",
          "枇杷",
          "楊桃",
          "檬果",
          "木瓜",
          "番石榴",
          "檸檬",
          "印度棗",
          "番茄",
          "馬鈴薯",
          "紅龍果",
          "棗",
          "蜜棗",
          "瓜果類",
          "豆菜類",
          "洋蔥",
          "豆類",
          "龍柏",
          "棗子",
          "高粱",
          "大豆",
          "香瓜",
          "南瓜",
          "橄欖",
          "葡萄",
          "洋桔梗",
          "柑桔",
          "百香果",
          "番荔枝",
          "鳳梨釋迦",
          "樹豆",
          "桶柑",
          "茂谷柑",
          "臍橙",
          "晚崙西亞",
          "荖花",
          "荖葉",
          "水蜜桃",
          "小米",
          "金針",
          "蘭花",
          "鳳梨",
          "酪梨",
          "杭菊",
          "花卉",
          "白柚",
          "椪柑",
          "柳橙",
          "西施柚",
          "蔬果類",
          "明尼吉柚",
          "葡萄柚",
          "葉菜類",
          "雜糧",
          "雜草",
          "葫蘆科",
          "茄科",
          "景觀樹木",
          "花木",
          "特作",
          "芸香科",
          "綠肥作物",
          "牧草",
          "茶",
          "柚類",
          "禾本科雜草",
          "甘蔗",
          "小麥",
          "梅",
          "可可椰子",
          "結球白菜",
          "苦瓜",
          "扁蒲",
          "豇豆",
          "蔓性作物",
          "蕹菜",
          "秋葵",
          "花椰菜",
          "園藝作物",
          "芥菜",
          "白菜",
          "蕪菁",
          "聖誕紅",
          "薰衣草",
          "瓜類",
          "竹筍",
          "蘿蔔",
          "多花菊",
          "玫瑰",
          "唐菖蒲",
          "百合",
          "甜椒",
          "辣椒",
          "茄子",
          "胡麻",
          "花胡瓜",
          "九層塔",
          "咖啡",
          "桑",
          "非洲菊",
          "佛手瓜",
          "菊科",
          "蔥科",
          "七里香",
          "烏柑仔",
          "青江白菜",
          "包心白菜",
          "包心芥菜",
          "芥藍菜",
          "樹薯",
          "朱槿",
          "火鶴花",
          "蝴蝶蘭",
          "觀葉植物",
          "油菜",
          "薏苡",
          "茭白筍",
          "甜蜜桃",
          "小白菜",
          "青花菜",
          "花菜類",
          "菸草",
          "草花類",
          "盆花類",
          "結球菜類",
          "飲料作物",
          "蘇鐵",
          "薇甘菊",
          "莧菜",
          "空心菜",
          "向日葵",
          "青梗白菜",
          "蔓澤蘭",
          "旋花科",
          "天南星科",
          "睡蓮科",
          "茄果類",
          "瓜菜類",
          "紅豆",
          "龍葵",
          "曼陀羅",
          "狼尾草",
          "盤固拉草",
          "林木",
          "觀賞植物",
          "棉花",
          "果菜類",
          "無患子科",
          "洛神葵",
          "冬瓜",
          "黑豆"
         ],
         "xaxis": "x",
         "y": [
          21,
          233,
          17,
          0,
          3,
          3,
          5,
          1,
          79,
          6,
          12,
          6,
          4,
          11,
          3,
          3,
          8,
          11,
          6,
          5,
          10,
          20,
          6,
          6,
          5,
          13,
          10,
          27,
          18,
          11,
          2,
          54,
          6,
          15,
          2,
          6,
          3,
          1,
          6,
          15,
          38,
          9,
          17,
          0,
          1,
          25,
          10,
          1,
          4,
          0,
          2,
          1,
          3,
          0,
          5,
          0,
          1,
          1,
          1,
          2,
          2,
          10,
          1,
          19,
          0,
          12,
          8,
          0,
          0,
          3,
          1,
          0,
          0,
          0,
          0,
          0,
          0,
          3,
          0,
          2,
          0,
          9,
          12,
          7,
          7,
          1,
          2,
          1,
          3,
          8,
          4,
          79,
          5,
          20,
          0,
          0,
          0,
          1,
          5,
          0,
          0,
          1,
          0,
          0,
          0,
          0,
          0,
          0,
          1,
          1,
          0,
          0,
          0,
          0,
          2,
          2,
          2,
          2,
          0,
          1,
          0,
          10,
          1,
          1,
          1,
          1,
          1,
          1,
          8,
          3,
          3,
          1,
          0,
          0,
          2,
          0,
          0,
          1,
          3,
          4,
          0,
          0,
          1,
          1,
          1,
          2,
          0,
          0,
          0,
          0,
          0,
          0,
          0,
          0,
          1,
          1,
          1,
          1,
          2,
          0,
          0,
          0,
          0,
          2,
          0,
          1,
          1,
          0,
          0,
          0,
          0,
          0,
          0,
          0,
          0,
          3,
          1,
          1,
          0,
          0,
          0,
          1,
          1,
          0,
          2,
          1,
          1,
          0
         ],
         "yaxis": "y"
        }
       ],
       "layout": {
        "barmode": "relative",
        "legend": {
         "tracegroupgap": 0
        },
        "template": {
         "data": {
          "bar": [
           {
            "error_x": {
             "color": "#2a3f5f"
            },
            "error_y": {
             "color": "#2a3f5f"
            },
            "marker": {
             "line": {
              "color": "#E5ECF6",
              "width": 0.5
             },
             "pattern": {
              "fillmode": "overlay",
              "size": 10,
              "solidity": 0.2
             }
            },
            "type": "bar"
           }
          ],
          "barpolar": [
           {
            "marker": {
             "line": {
              "color": "#E5ECF6",
              "width": 0.5
             },
             "pattern": {
              "fillmode": "overlay",
              "size": 10,
              "solidity": 0.2
             }
            },
            "type": "barpolar"
           }
          ],
          "carpet": [
           {
            "aaxis": {
             "endlinecolor": "#2a3f5f",
             "gridcolor": "white",
             "linecolor": "white",
             "minorgridcolor": "white",
             "startlinecolor": "#2a3f5f"
            },
            "baxis": {
             "endlinecolor": "#2a3f5f",
             "gridcolor": "white",
             "linecolor": "white",
             "minorgridcolor": "white",
             "startlinecolor": "#2a3f5f"
            },
            "type": "carpet"
           }
          ],
          "choropleth": [
           {
            "colorbar": {
             "outlinewidth": 0,
             "ticks": ""
            },
            "type": "choropleth"
           }
          ],
          "contour": [
           {
            "colorbar": {
             "outlinewidth": 0,
             "ticks": ""
            },
            "colorscale": [
             [
              0,
              "#0d0887"
             ],
             [
              0.1111111111111111,
              "#46039f"
             ],
             [
              0.2222222222222222,
              "#7201a8"
             ],
             [
              0.3333333333333333,
              "#9c179e"
             ],
             [
              0.4444444444444444,
              "#bd3786"
             ],
             [
              0.5555555555555556,
              "#d8576b"
             ],
             [
              0.6666666666666666,
              "#ed7953"
             ],
             [
              0.7777777777777778,
              "#fb9f3a"
             ],
             [
              0.8888888888888888,
              "#fdca26"
             ],
             [
              1,
              "#f0f921"
             ]
            ],
            "type": "contour"
           }
          ],
          "contourcarpet": [
           {
            "colorbar": {
             "outlinewidth": 0,
             "ticks": ""
            },
            "type": "contourcarpet"
           }
          ],
          "heatmap": [
           {
            "colorbar": {
             "outlinewidth": 0,
             "ticks": ""
            },
            "colorscale": [
             [
              0,
              "#0d0887"
             ],
             [
              0.1111111111111111,
              "#46039f"
             ],
             [
              0.2222222222222222,
              "#7201a8"
             ],
             [
              0.3333333333333333,
              "#9c179e"
             ],
             [
              0.4444444444444444,
              "#bd3786"
             ],
             [
              0.5555555555555556,
              "#d8576b"
             ],
             [
              0.6666666666666666,
              "#ed7953"
             ],
             [
              0.7777777777777778,
              "#fb9f3a"
             ],
             [
              0.8888888888888888,
              "#fdca26"
             ],
             [
              1,
              "#f0f921"
             ]
            ],
            "type": "heatmap"
           }
          ],
          "heatmapgl": [
           {
            "colorbar": {
             "outlinewidth": 0,
             "ticks": ""
            },
            "colorscale": [
             [
              0,
              "#0d0887"
             ],
             [
              0.1111111111111111,
              "#46039f"
             ],
             [
              0.2222222222222222,
              "#7201a8"
             ],
             [
              0.3333333333333333,
              "#9c179e"
             ],
             [
              0.4444444444444444,
              "#bd3786"
             ],
             [
              0.5555555555555556,
              "#d8576b"
             ],
             [
              0.6666666666666666,
              "#ed7953"
             ],
             [
              0.7777777777777778,
              "#fb9f3a"
             ],
             [
              0.8888888888888888,
              "#fdca26"
             ],
             [
              1,
              "#f0f921"
             ]
            ],
            "type": "heatmapgl"
           }
          ],
          "histogram": [
           {
            "marker": {
             "pattern": {
              "fillmode": "overlay",
              "size": 10,
              "solidity": 0.2
             }
            },
            "type": "histogram"
           }
          ],
          "histogram2d": [
           {
            "colorbar": {
             "outlinewidth": 0,
             "ticks": ""
            },
            "colorscale": [
             [
              0,
              "#0d0887"
             ],
             [
              0.1111111111111111,
              "#46039f"
             ],
             [
              0.2222222222222222,
              "#7201a8"
             ],
             [
              0.3333333333333333,
              "#9c179e"
             ],
             [
              0.4444444444444444,
              "#bd3786"
             ],
             [
              0.5555555555555556,
              "#d8576b"
             ],
             [
              0.6666666666666666,
              "#ed7953"
             ],
             [
              0.7777777777777778,
              "#fb9f3a"
             ],
             [
              0.8888888888888888,
              "#fdca26"
             ],
             [
              1,
              "#f0f921"
             ]
            ],
            "type": "histogram2d"
           }
          ],
          "histogram2dcontour": [
           {
            "colorbar": {
             "outlinewidth": 0,
             "ticks": ""
            },
            "colorscale": [
             [
              0,
              "#0d0887"
             ],
             [
              0.1111111111111111,
              "#46039f"
             ],
             [
              0.2222222222222222,
              "#7201a8"
             ],
             [
              0.3333333333333333,
              "#9c179e"
             ],
             [
              0.4444444444444444,
              "#bd3786"
             ],
             [
              0.5555555555555556,
              "#d8576b"
             ],
             [
              0.6666666666666666,
              "#ed7953"
             ],
             [
              0.7777777777777778,
              "#fb9f3a"
             ],
             [
              0.8888888888888888,
              "#fdca26"
             ],
             [
              1,
              "#f0f921"
             ]
            ],
            "type": "histogram2dcontour"
           }
          ],
          "mesh3d": [
           {
            "colorbar": {
             "outlinewidth": 0,
             "ticks": ""
            },
            "type": "mesh3d"
           }
          ],
          "parcoords": [
           {
            "line": {
             "colorbar": {
              "outlinewidth": 0,
              "ticks": ""
             }
            },
            "type": "parcoords"
           }
          ],
          "pie": [
           {
            "automargin": true,
            "type": "pie"
           }
          ],
          "scatter": [
           {
            "marker": {
             "colorbar": {
              "outlinewidth": 0,
              "ticks": ""
             }
            },
            "type": "scatter"
           }
          ],
          "scatter3d": [
           {
            "line": {
             "colorbar": {
              "outlinewidth": 0,
              "ticks": ""
             }
            },
            "marker": {
             "colorbar": {
              "outlinewidth": 0,
              "ticks": ""
             }
            },
            "type": "scatter3d"
           }
          ],
          "scattercarpet": [
           {
            "marker": {
             "colorbar": {
              "outlinewidth": 0,
              "ticks": ""
             }
            },
            "type": "scattercarpet"
           }
          ],
          "scattergeo": [
           {
            "marker": {
             "colorbar": {
              "outlinewidth": 0,
              "ticks": ""
             }
            },
            "type": "scattergeo"
           }
          ],
          "scattergl": [
           {
            "marker": {
             "colorbar": {
              "outlinewidth": 0,
              "ticks": ""
             }
            },
            "type": "scattergl"
           }
          ],
          "scattermapbox": [
           {
            "marker": {
             "colorbar": {
              "outlinewidth": 0,
              "ticks": ""
             }
            },
            "type": "scattermapbox"
           }
          ],
          "scatterpolar": [
           {
            "marker": {
             "colorbar": {
              "outlinewidth": 0,
              "ticks": ""
             }
            },
            "type": "scatterpolar"
           }
          ],
          "scatterpolargl": [
           {
            "marker": {
             "colorbar": {
              "outlinewidth": 0,
              "ticks": ""
             }
            },
            "type": "scatterpolargl"
           }
          ],
          "scatterternary": [
           {
            "marker": {
             "colorbar": {
              "outlinewidth": 0,
              "ticks": ""
             }
            },
            "type": "scatterternary"
           }
          ],
          "surface": [
           {
            "colorbar": {
             "outlinewidth": 0,
             "ticks": ""
            },
            "colorscale": [
             [
              0,
              "#0d0887"
             ],
             [
              0.1111111111111111,
              "#46039f"
             ],
             [
              0.2222222222222222,
              "#7201a8"
             ],
             [
              0.3333333333333333,
              "#9c179e"
             ],
             [
              0.4444444444444444,
              "#bd3786"
             ],
             [
              0.5555555555555556,
              "#d8576b"
             ],
             [
              0.6666666666666666,
              "#ed7953"
             ],
             [
              0.7777777777777778,
              "#fb9f3a"
             ],
             [
              0.8888888888888888,
              "#fdca26"
             ],
             [
              1,
              "#f0f921"
             ]
            ],
            "type": "surface"
           }
          ],
          "table": [
           {
            "cells": {
             "fill": {
              "color": "#EBF0F8"
             },
             "line": {
              "color": "white"
             }
            },
            "header": {
             "fill": {
              "color": "#C8D4E3"
             },
             "line": {
              "color": "white"
             }
            },
            "type": "table"
           }
          ]
         },
         "layout": {
          "annotationdefaults": {
           "arrowcolor": "#2a3f5f",
           "arrowhead": 0,
           "arrowwidth": 1
          },
          "autotypenumbers": "strict",
          "coloraxis": {
           "colorbar": {
            "outlinewidth": 0,
            "ticks": ""
           }
          },
          "colorscale": {
           "diverging": [
            [
             0,
             "#8e0152"
            ],
            [
             0.1,
             "#c51b7d"
            ],
            [
             0.2,
             "#de77ae"
            ],
            [
             0.3,
             "#f1b6da"
            ],
            [
             0.4,
             "#fde0ef"
            ],
            [
             0.5,
             "#f7f7f7"
            ],
            [
             0.6,
             "#e6f5d0"
            ],
            [
             0.7,
             "#b8e186"
            ],
            [
             0.8,
             "#7fbc41"
            ],
            [
             0.9,
             "#4d9221"
            ],
            [
             1,
             "#276419"
            ]
           ],
           "sequential": [
            [
             0,
             "#0d0887"
            ],
            [
             0.1111111111111111,
             "#46039f"
            ],
            [
             0.2222222222222222,
             "#7201a8"
            ],
            [
             0.3333333333333333,
             "#9c179e"
            ],
            [
             0.4444444444444444,
             "#bd3786"
            ],
            [
             0.5555555555555556,
             "#d8576b"
            ],
            [
             0.6666666666666666,
             "#ed7953"
            ],
            [
             0.7777777777777778,
             "#fb9f3a"
            ],
            [
             0.8888888888888888,
             "#fdca26"
            ],
            [
             1,
             "#f0f921"
            ]
           ],
           "sequentialminus": [
            [
             0,
             "#0d0887"
            ],
            [
             0.1111111111111111,
             "#46039f"
            ],
            [
             0.2222222222222222,
             "#7201a8"
            ],
            [
             0.3333333333333333,
             "#9c179e"
            ],
            [
             0.4444444444444444,
             "#bd3786"
            ],
            [
             0.5555555555555556,
             "#d8576b"
            ],
            [
             0.6666666666666666,
             "#ed7953"
            ],
            [
             0.7777777777777778,
             "#fb9f3a"
            ],
            [
             0.8888888888888888,
             "#fdca26"
            ],
            [
             1,
             "#f0f921"
            ]
           ]
          },
          "colorway": [
           "#636efa",
           "#EF553B",
           "#00cc96",
           "#ab63fa",
           "#FFA15A",
           "#19d3f3",
           "#FF6692",
           "#B6E880",
           "#FF97FF",
           "#FECB52"
          ],
          "font": {
           "color": "#2a3f5f"
          },
          "geo": {
           "bgcolor": "white",
           "lakecolor": "white",
           "landcolor": "#E5ECF6",
           "showlakes": true,
           "showland": true,
           "subunitcolor": "white"
          },
          "hoverlabel": {
           "align": "left"
          },
          "hovermode": "closest",
          "mapbox": {
           "style": "light"
          },
          "paper_bgcolor": "white",
          "plot_bgcolor": "#E5ECF6",
          "polar": {
           "angularaxis": {
            "gridcolor": "white",
            "linecolor": "white",
            "ticks": ""
           },
           "bgcolor": "#E5ECF6",
           "radialaxis": {
            "gridcolor": "white",
            "linecolor": "white",
            "ticks": ""
           }
          },
          "scene": {
           "xaxis": {
            "backgroundcolor": "#E5ECF6",
            "gridcolor": "white",
            "gridwidth": 2,
            "linecolor": "white",
            "showbackground": true,
            "ticks": "",
            "zerolinecolor": "white"
           },
           "yaxis": {
            "backgroundcolor": "#E5ECF6",
            "gridcolor": "white",
            "gridwidth": 2,
            "linecolor": "white",
            "showbackground": true,
            "ticks": "",
            "zerolinecolor": "white"
           },
           "zaxis": {
            "backgroundcolor": "#E5ECF6",
            "gridcolor": "white",
            "gridwidth": 2,
            "linecolor": "white",
            "showbackground": true,
            "ticks": "",
            "zerolinecolor": "white"
           }
          },
          "shapedefaults": {
           "line": {
            "color": "#2a3f5f"
           }
          },
          "ternary": {
           "aaxis": {
            "gridcolor": "white",
            "linecolor": "white",
            "ticks": ""
           },
           "baxis": {
            "gridcolor": "white",
            "linecolor": "white",
            "ticks": ""
           },
           "bgcolor": "#E5ECF6",
           "caxis": {
            "gridcolor": "white",
            "linecolor": "white",
            "ticks": ""
           }
          },
          "title": {
           "x": 0.05
          },
          "xaxis": {
           "automargin": true,
           "gridcolor": "white",
           "linecolor": "white",
           "ticks": "",
           "title": {
            "standoff": 15
           },
           "zerolinecolor": "white",
           "zerolinewidth": 2
          },
          "yaxis": {
           "automargin": true,
           "gridcolor": "white",
           "linecolor": "white",
           "ticks": "",
           "title": {
            "standoff": 15
           },
           "zerolinecolor": "white",
           "zerolinewidth": 2
          }
         }
        },
        "title": {
         "text": "public 作物在文章出現數量"
        },
        "xaxis": {
         "anchor": "y",
         "domain": [
          0,
          1
         ],
         "title": {
          "text": "作物"
         }
        },
        "yaxis": {
         "anchor": "x",
         "domain": [
          0,
          1
         ],
         "title": {
          "text": "文章數量"
         }
        }
       }
      },
      "text/html": [
       "<div>                            <div id=\"d2d8b763-948f-4909-a675-e5f78005b4ca\" class=\"plotly-graph-div\" style=\"height:525px; width:100%;\"></div>            <script type=\"text/javascript\">                require([\"plotly\"], function(Plotly) {                    window.PLOTLYENV=window.PLOTLYENV || {};                                    if (document.getElementById(\"d2d8b763-948f-4909-a675-e5f78005b4ca\")) {                    Plotly.newPlot(                        \"d2d8b763-948f-4909-a675-e5f78005b4ca\",                        [{\"alignmentgroup\":\"True\",\"hovertemplate\":\"\\u4f5c\\u7269=%{x}<br>\\u6587\\u7ae0\\u6578\\u91cf=%{y}<extra></extra>\",\"legendgroup\":\"\",\"marker\":{\"color\":\"#636efa\",\"pattern\":{\"shape\":\"\"}},\"name\":\"\",\"offsetgroup\":\"\",\"orientation\":\"v\",\"showlegend\":false,\"textposition\":\"auto\",\"x\":[\"\\u6587\\u65e6\\u67da\",\"\\u6c34\\u7a3b\",\"\\u9752\\u8525\",\"\\u9f8d\\u9b1a\\u83dc\",\"\\u97ed\\u83dc\",\"\\u7518\\u85cd\",\"\\u897f\\u74dc\",\"\\u828b\\u982d\",\"\\u9999\\u8549\",\"\\u7518\\u85f7\",\"\\u7389\\u7c73\",\"\\u80e1\\u74dc\",\"\\u7d72\\u74dc\",\"\\u6d0b\\u9999\\u74dc\",\"\\u83e0\\u83dc\",\"\\u8435\\u82e3\",\"\\u5341\\u5b57\\u82b1\\u79d1\",\"\\u8c46\\u79d1\",\"\\u5927\\u849c\",\"\\u833c\\u84bf\",\"\\u843d\\u82b1\\u751f\",\"\\u852c\\u83dc\",\"\\u7530\\u83c1\",\"\\u6bdb\\u8c46\",\"\\u8c4c\\u8c46\",\"\\u84ee\\u82b1\",\"\\u68a8\",\"\\u8354\\u679d\",\"\\u9f8d\\u773c\",\"\\u84ee\\u9727\",\"\\u6b12\\u6a39\",\"\\u679c\\u6a39\",\"\\u8349\\u8393\",\"\\u67d1\\u6a58\",\"\\u7d05\\u68d7\",\"\\u67ff\\u5b50\",\"\\u6843\\u5b50\",\"\\u674e\\u5b50\",\"\\u6787\\u6777\",\"\\u694a\\u6843\",\"\\u6aac\\u679c\",\"\\u6728\\u74dc\",\"\\u756a\\u77f3\\u69b4\",\"\\u6ab8\\u6aac\",\"\\u5370\\u5ea6\\u68d7\",\"\\u756a\\u8304\",\"\\u99ac\\u9234\\u85af\",\"\\u7d05\\u9f8d\\u679c\",\"\\u68d7\",\"\\u871c\\u68d7\",\"\\u74dc\\u679c\\u985e\",\"\\u8c46\\u83dc\\u985e\",\"\\u6d0b\\u8525\",\"\\u8c46\\u985e\",\"\\u9f8d\\u67cf\",\"\\u68d7\\u5b50\",\"\\u9ad8\\u7cb1\",\"\\u5927\\u8c46\",\"\\u9999\\u74dc\",\"\\u5357\\u74dc\",\"\\u6a44\\u6b16\",\"\\u8461\\u8404\",\"\\u6d0b\\u6854\\u6897\",\"\\u67d1\\u6854\",\"\\u767e\\u9999\\u679c\",\"\\u756a\\u8354\\u679d\",\"\\u9cf3\\u68a8\\u91cb\\u8fe6\",\"\\u6a39\\u8c46\",\"\\u6876\\u67d1\",\"\\u8302\\u8c37\\u67d1\",\"\\u81cd\\u6a59\",\"\\u665a\\u5d19\\u897f\\u4e9e\",\"\\u8356\\u82b1\",\"\\u8356\\u8449\",\"\\u6c34\\u871c\\u6843\",\"\\u5c0f\\u7c73\",\"\\u91d1\\u91dd\",\"\\u862d\\u82b1\",\"\\u9cf3\\u68a8\",\"\\u916a\\u68a8\",\"\\u676d\\u83ca\",\"\\u82b1\\u5349\",\"\\u767d\\u67da\",\"\\u692a\\u67d1\",\"\\u67f3\\u6a59\",\"\\u897f\\u65bd\\u67da\",\"\\u852c\\u679c\\u985e\",\"\\u660e\\u5c3c\\u5409\\u67da\",\"\\u8461\\u8404\\u67da\",\"\\u8449\\u83dc\\u985e\",\"\\u96dc\\u7ce7\",\"\\u96dc\\u8349\",\"\\u846b\\u8606\\u79d1\",\"\\u8304\\u79d1\",\"\\u666f\\u89c0\\u6a39\\u6728\",\"\\u82b1\\u6728\",\"\\u7279\\u4f5c\",\"\\u82b8\\u9999\\u79d1\",\"\\u7da0\\u80a5\\u4f5c\\u7269\",\"\\u7267\\u8349\",\"\\u8336\",\"\\u67da\\u985e\",\"\\u79be\\u672c\\u79d1\\u96dc\\u8349\",\"\\u7518\\u8517\",\"\\u5c0f\\u9ea5\",\"\\u6885\",\"\\u53ef\\u53ef\\u6930\\u5b50\",\"\\u7d50\\u7403\\u767d\\u83dc\",\"\\u82e6\\u74dc\",\"\\u6241\\u84b2\",\"\\u8c47\\u8c46\",\"\\u8513\\u6027\\u4f5c\\u7269\",\"\\u8579\\u83dc\",\"\\u79cb\\u8475\",\"\\u82b1\\u6930\\u83dc\",\"\\u5712\\u85dd\\u4f5c\\u7269\",\"\\u82a5\\u83dc\",\"\\u767d\\u83dc\",\"\\u856a\\u83c1\",\"\\u8056\\u8a95\\u7d05\",\"\\u85b0\\u8863\\u8349\",\"\\u74dc\\u985e\",\"\\u7af9\\u7b4d\",\"\\u863f\\u8514\",\"\\u591a\\u82b1\\u83ca\",\"\\u73ab\\u7470\",\"\\u5510\\u83d6\\u84b2\",\"\\u767e\\u5408\",\"\\u751c\\u6912\",\"\\u8fa3\\u6912\",\"\\u8304\\u5b50\",\"\\u80e1\\u9ebb\",\"\\u82b1\\u80e1\\u74dc\",\"\\u4e5d\\u5c64\\u5854\",\"\\u5496\\u5561\",\"\\u6851\",\"\\u975e\\u6d32\\u83ca\",\"\\u4f5b\\u624b\\u74dc\",\"\\u83ca\\u79d1\",\"\\u8525\\u79d1\",\"\\u4e03\\u91cc\\u9999\",\"\\u70cf\\u67d1\\u4ed4\",\"\\u9752\\u6c5f\\u767d\\u83dc\",\"\\u5305\\u5fc3\\u767d\\u83dc\",\"\\u5305\\u5fc3\\u82a5\\u83dc\",\"\\u82a5\\u85cd\\u83dc\",\"\\u6a39\\u85af\",\"\\u6731\\u69ff\",\"\\u706b\\u9db4\\u82b1\",\"\\u8774\\u8776\\u862d\",\"\\u89c0\\u8449\\u690d\\u7269\",\"\\u6cb9\\u83dc\",\"\\u858f\\u82e1\",\"\\u832d\\u767d\\u7b4d\",\"\\u751c\\u871c\\u6843\",\"\\u5c0f\\u767d\\u83dc\",\"\\u9752\\u82b1\\u83dc\",\"\\u82b1\\u83dc\\u985e\",\"\\u83f8\\u8349\",\"\\u8349\\u82b1\\u985e\",\"\\u76c6\\u82b1\\u985e\",\"\\u7d50\\u7403\\u83dc\\u985e\",\"\\u98f2\\u6599\\u4f5c\\u7269\",\"\\u8607\\u9435\",\"\\u8587\\u7518\\u83ca\",\"\\u83a7\\u83dc\",\"\\u7a7a\\u5fc3\\u83dc\",\"\\u5411\\u65e5\\u8475\",\"\\u9752\\u6897\\u767d\\u83dc\",\"\\u8513\\u6fa4\\u862d\",\"\\u65cb\\u82b1\\u79d1\",\"\\u5929\\u5357\\u661f\\u79d1\",\"\\u7761\\u84ee\\u79d1\",\"\\u8304\\u679c\\u985e\",\"\\u74dc\\u83dc\\u985e\",\"\\u7d05\\u8c46\",\"\\u9f8d\\u8475\",\"\\u66fc\\u9640\\u7f85\",\"\\u72fc\\u5c3e\\u8349\",\"\\u76e4\\u56fa\\u62c9\\u8349\",\"\\u6797\\u6728\",\"\\u89c0\\u8cde\\u690d\\u7269\",\"\\u68c9\\u82b1\",\"\\u679c\\u83dc\\u985e\",\"\\u7121\\u60a3\\u5b50\\u79d1\",\"\\u6d1b\\u795e\\u8475\",\"\\u51ac\\u74dc\",\"\\u9ed1\\u8c46\"],\"xaxis\":\"x\",\"y\":[21,233,17,0,3,3,5,1,79,6,12,6,4,11,3,3,8,11,6,5,10,20,6,6,5,13,10,27,18,11,2,54,6,15,2,6,3,1,6,15,38,9,17,0,1,25,10,1,4,0,2,1,3,0,5,0,1,1,1,2,2,10,1,19,0,12,8,0,0,3,1,0,0,0,0,0,0,3,0,2,0,9,12,7,7,1,2,1,3,8,4,79,5,20,0,0,0,1,5,0,0,1,0,0,0,0,0,0,1,1,0,0,0,0,2,2,2,2,0,1,0,10,1,1,1,1,1,1,8,3,3,1,0,0,2,0,0,1,3,4,0,0,1,1,1,2,0,0,0,0,0,0,0,0,1,1,1,1,2,0,0,0,0,2,0,1,1,0,0,0,0,0,0,0,0,3,1,1,0,0,0,1,1,0,2,1,1,0],\"yaxis\":\"y\",\"type\":\"bar\"}],                        {\"template\":{\"data\":{\"bar\":[{\"error_x\":{\"color\":\"#2a3f5f\"},\"error_y\":{\"color\":\"#2a3f5f\"},\"marker\":{\"line\":{\"color\":\"#E5ECF6\",\"width\":0.5},\"pattern\":{\"fillmode\":\"overlay\",\"size\":10,\"solidity\":0.2}},\"type\":\"bar\"}],\"barpolar\":[{\"marker\":{\"line\":{\"color\":\"#E5ECF6\",\"width\":0.5},\"pattern\":{\"fillmode\":\"overlay\",\"size\":10,\"solidity\":0.2}},\"type\":\"barpolar\"}],\"carpet\":[{\"aaxis\":{\"endlinecolor\":\"#2a3f5f\",\"gridcolor\":\"white\",\"linecolor\":\"white\",\"minorgridcolor\":\"white\",\"startlinecolor\":\"#2a3f5f\"},\"baxis\":{\"endlinecolor\":\"#2a3f5f\",\"gridcolor\":\"white\",\"linecolor\":\"white\",\"minorgridcolor\":\"white\",\"startlinecolor\":\"#2a3f5f\"},\"type\":\"carpet\"}],\"choropleth\":[{\"colorbar\":{\"outlinewidth\":0,\"ticks\":\"\"},\"type\":\"choropleth\"}],\"contour\":[{\"colorbar\":{\"outlinewidth\":0,\"ticks\":\"\"},\"colorscale\":[[0.0,\"#0d0887\"],[0.1111111111111111,\"#46039f\"],[0.2222222222222222,\"#7201a8\"],[0.3333333333333333,\"#9c179e\"],[0.4444444444444444,\"#bd3786\"],[0.5555555555555556,\"#d8576b\"],[0.6666666666666666,\"#ed7953\"],[0.7777777777777778,\"#fb9f3a\"],[0.8888888888888888,\"#fdca26\"],[1.0,\"#f0f921\"]],\"type\":\"contour\"}],\"contourcarpet\":[{\"colorbar\":{\"outlinewidth\":0,\"ticks\":\"\"},\"type\":\"contourcarpet\"}],\"heatmap\":[{\"colorbar\":{\"outlinewidth\":0,\"ticks\":\"\"},\"colorscale\":[[0.0,\"#0d0887\"],[0.1111111111111111,\"#46039f\"],[0.2222222222222222,\"#7201a8\"],[0.3333333333333333,\"#9c179e\"],[0.4444444444444444,\"#bd3786\"],[0.5555555555555556,\"#d8576b\"],[0.6666666666666666,\"#ed7953\"],[0.7777777777777778,\"#fb9f3a\"],[0.8888888888888888,\"#fdca26\"],[1.0,\"#f0f921\"]],\"type\":\"heatmap\"}],\"heatmapgl\":[{\"colorbar\":{\"outlinewidth\":0,\"ticks\":\"\"},\"colorscale\":[[0.0,\"#0d0887\"],[0.1111111111111111,\"#46039f\"],[0.2222222222222222,\"#7201a8\"],[0.3333333333333333,\"#9c179e\"],[0.4444444444444444,\"#bd3786\"],[0.5555555555555556,\"#d8576b\"],[0.6666666666666666,\"#ed7953\"],[0.7777777777777778,\"#fb9f3a\"],[0.8888888888888888,\"#fdca26\"],[1.0,\"#f0f921\"]],\"type\":\"heatmapgl\"}],\"histogram\":[{\"marker\":{\"pattern\":{\"fillmode\":\"overlay\",\"size\":10,\"solidity\":0.2}},\"type\":\"histogram\"}],\"histogram2d\":[{\"colorbar\":{\"outlinewidth\":0,\"ticks\":\"\"},\"colorscale\":[[0.0,\"#0d0887\"],[0.1111111111111111,\"#46039f\"],[0.2222222222222222,\"#7201a8\"],[0.3333333333333333,\"#9c179e\"],[0.4444444444444444,\"#bd3786\"],[0.5555555555555556,\"#d8576b\"],[0.6666666666666666,\"#ed7953\"],[0.7777777777777778,\"#fb9f3a\"],[0.8888888888888888,\"#fdca26\"],[1.0,\"#f0f921\"]],\"type\":\"histogram2d\"}],\"histogram2dcontour\":[{\"colorbar\":{\"outlinewidth\":0,\"ticks\":\"\"},\"colorscale\":[[0.0,\"#0d0887\"],[0.1111111111111111,\"#46039f\"],[0.2222222222222222,\"#7201a8\"],[0.3333333333333333,\"#9c179e\"],[0.4444444444444444,\"#bd3786\"],[0.5555555555555556,\"#d8576b\"],[0.6666666666666666,\"#ed7953\"],[0.7777777777777778,\"#fb9f3a\"],[0.8888888888888888,\"#fdca26\"],[1.0,\"#f0f921\"]],\"type\":\"histogram2dcontour\"}],\"mesh3d\":[{\"colorbar\":{\"outlinewidth\":0,\"ticks\":\"\"},\"type\":\"mesh3d\"}],\"parcoords\":[{\"line\":{\"colorbar\":{\"outlinewidth\":0,\"ticks\":\"\"}},\"type\":\"parcoords\"}],\"pie\":[{\"automargin\":true,\"type\":\"pie\"}],\"scatter\":[{\"marker\":{\"colorbar\":{\"outlinewidth\":0,\"ticks\":\"\"}},\"type\":\"scatter\"}],\"scatter3d\":[{\"line\":{\"colorbar\":{\"outlinewidth\":0,\"ticks\":\"\"}},\"marker\":{\"colorbar\":{\"outlinewidth\":0,\"ticks\":\"\"}},\"type\":\"scatter3d\"}],\"scattercarpet\":[{\"marker\":{\"colorbar\":{\"outlinewidth\":0,\"ticks\":\"\"}},\"type\":\"scattercarpet\"}],\"scattergeo\":[{\"marker\":{\"colorbar\":{\"outlinewidth\":0,\"ticks\":\"\"}},\"type\":\"scattergeo\"}],\"scattergl\":[{\"marker\":{\"colorbar\":{\"outlinewidth\":0,\"ticks\":\"\"}},\"type\":\"scattergl\"}],\"scattermapbox\":[{\"marker\":{\"colorbar\":{\"outlinewidth\":0,\"ticks\":\"\"}},\"type\":\"scattermapbox\"}],\"scatterpolar\":[{\"marker\":{\"colorbar\":{\"outlinewidth\":0,\"ticks\":\"\"}},\"type\":\"scatterpolar\"}],\"scatterpolargl\":[{\"marker\":{\"colorbar\":{\"outlinewidth\":0,\"ticks\":\"\"}},\"type\":\"scatterpolargl\"}],\"scatterternary\":[{\"marker\":{\"colorbar\":{\"outlinewidth\":0,\"ticks\":\"\"}},\"type\":\"scatterternary\"}],\"surface\":[{\"colorbar\":{\"outlinewidth\":0,\"ticks\":\"\"},\"colorscale\":[[0.0,\"#0d0887\"],[0.1111111111111111,\"#46039f\"],[0.2222222222222222,\"#7201a8\"],[0.3333333333333333,\"#9c179e\"],[0.4444444444444444,\"#bd3786\"],[0.5555555555555556,\"#d8576b\"],[0.6666666666666666,\"#ed7953\"],[0.7777777777777778,\"#fb9f3a\"],[0.8888888888888888,\"#fdca26\"],[1.0,\"#f0f921\"]],\"type\":\"surface\"}],\"table\":[{\"cells\":{\"fill\":{\"color\":\"#EBF0F8\"},\"line\":{\"color\":\"white\"}},\"header\":{\"fill\":{\"color\":\"#C8D4E3\"},\"line\":{\"color\":\"white\"}},\"type\":\"table\"}]},\"layout\":{\"annotationdefaults\":{\"arrowcolor\":\"#2a3f5f\",\"arrowhead\":0,\"arrowwidth\":1},\"autotypenumbers\":\"strict\",\"coloraxis\":{\"colorbar\":{\"outlinewidth\":0,\"ticks\":\"\"}},\"colorscale\":{\"diverging\":[[0,\"#8e0152\"],[0.1,\"#c51b7d\"],[0.2,\"#de77ae\"],[0.3,\"#f1b6da\"],[0.4,\"#fde0ef\"],[0.5,\"#f7f7f7\"],[0.6,\"#e6f5d0\"],[0.7,\"#b8e186\"],[0.8,\"#7fbc41\"],[0.9,\"#4d9221\"],[1,\"#276419\"]],\"sequential\":[[0.0,\"#0d0887\"],[0.1111111111111111,\"#46039f\"],[0.2222222222222222,\"#7201a8\"],[0.3333333333333333,\"#9c179e\"],[0.4444444444444444,\"#bd3786\"],[0.5555555555555556,\"#d8576b\"],[0.6666666666666666,\"#ed7953\"],[0.7777777777777778,\"#fb9f3a\"],[0.8888888888888888,\"#fdca26\"],[1.0,\"#f0f921\"]],\"sequentialminus\":[[0.0,\"#0d0887\"],[0.1111111111111111,\"#46039f\"],[0.2222222222222222,\"#7201a8\"],[0.3333333333333333,\"#9c179e\"],[0.4444444444444444,\"#bd3786\"],[0.5555555555555556,\"#d8576b\"],[0.6666666666666666,\"#ed7953\"],[0.7777777777777778,\"#fb9f3a\"],[0.8888888888888888,\"#fdca26\"],[1.0,\"#f0f921\"]]},\"colorway\":[\"#636efa\",\"#EF553B\",\"#00cc96\",\"#ab63fa\",\"#FFA15A\",\"#19d3f3\",\"#FF6692\",\"#B6E880\",\"#FF97FF\",\"#FECB52\"],\"font\":{\"color\":\"#2a3f5f\"},\"geo\":{\"bgcolor\":\"white\",\"lakecolor\":\"white\",\"landcolor\":\"#E5ECF6\",\"showlakes\":true,\"showland\":true,\"subunitcolor\":\"white\"},\"hoverlabel\":{\"align\":\"left\"},\"hovermode\":\"closest\",\"mapbox\":{\"style\":\"light\"},\"paper_bgcolor\":\"white\",\"plot_bgcolor\":\"#E5ECF6\",\"polar\":{\"angularaxis\":{\"gridcolor\":\"white\",\"linecolor\":\"white\",\"ticks\":\"\"},\"bgcolor\":\"#E5ECF6\",\"radialaxis\":{\"gridcolor\":\"white\",\"linecolor\":\"white\",\"ticks\":\"\"}},\"scene\":{\"xaxis\":{\"backgroundcolor\":\"#E5ECF6\",\"gridcolor\":\"white\",\"gridwidth\":2,\"linecolor\":\"white\",\"showbackground\":true,\"ticks\":\"\",\"zerolinecolor\":\"white\"},\"yaxis\":{\"backgroundcolor\":\"#E5ECF6\",\"gridcolor\":\"white\",\"gridwidth\":2,\"linecolor\":\"white\",\"showbackground\":true,\"ticks\":\"\",\"zerolinecolor\":\"white\"},\"zaxis\":{\"backgroundcolor\":\"#E5ECF6\",\"gridcolor\":\"white\",\"gridwidth\":2,\"linecolor\":\"white\",\"showbackground\":true,\"ticks\":\"\",\"zerolinecolor\":\"white\"}},\"shapedefaults\":{\"line\":{\"color\":\"#2a3f5f\"}},\"ternary\":{\"aaxis\":{\"gridcolor\":\"white\",\"linecolor\":\"white\",\"ticks\":\"\"},\"baxis\":{\"gridcolor\":\"white\",\"linecolor\":\"white\",\"ticks\":\"\"},\"bgcolor\":\"#E5ECF6\",\"caxis\":{\"gridcolor\":\"white\",\"linecolor\":\"white\",\"ticks\":\"\"}},\"title\":{\"x\":0.05},\"xaxis\":{\"automargin\":true,\"gridcolor\":\"white\",\"linecolor\":\"white\",\"ticks\":\"\",\"title\":{\"standoff\":15},\"zerolinecolor\":\"white\",\"zerolinewidth\":2},\"yaxis\":{\"automargin\":true,\"gridcolor\":\"white\",\"linecolor\":\"white\",\"ticks\":\"\",\"title\":{\"standoff\":15},\"zerolinecolor\":\"white\",\"zerolinewidth\":2}}},\"xaxis\":{\"anchor\":\"y\",\"domain\":[0.0,1.0],\"title\":{\"text\":\"\\u4f5c\\u7269\"}},\"yaxis\":{\"anchor\":\"x\",\"domain\":[0.0,1.0],\"title\":{\"text\":\"\\u6587\\u7ae0\\u6578\\u91cf\"}},\"legend\":{\"tracegroupgap\":0},\"title\":{\"text\":\"public \\u4f5c\\u7269\\u5728\\u6587\\u7ae0\\u51fa\\u73fe\\u6578\\u91cf\"},\"barmode\":\"relative\"},                        {\"responsive\": true}                    ).then(function(){\n",
       "                            \n",
       "var gd = document.getElementById('d2d8b763-948f-4909-a675-e5f78005b4ca');\n",
       "var x = new MutationObserver(function (mutations, observer) {{\n",
       "        var display = window.getComputedStyle(gd).display;\n",
       "        if (!display || display === 'none') {{\n",
       "            console.log([gd, 'removed!']);\n",
       "            Plotly.purge(gd);\n",
       "            observer.disconnect();\n",
       "        }}\n",
       "}});\n",
       "\n",
       "// Listen for the removal of the full notebook cells\n",
       "var notebookContainer = gd.closest('#notebook-container');\n",
       "if (notebookContainer) {{\n",
       "    x.observe(notebookContainer, {childList: true});\n",
       "}}\n",
       "\n",
       "// Listen for the clearing of the current output cell\n",
       "var outputEl = gd.closest('.output');\n",
       "if (outputEl) {{\n",
       "    x.observe(outputEl, {childList: true});\n",
       "}}\n",
       "\n",
       "                        })                };                });            </script>        </div>"
      ]
     },
     "metadata": {},
     "output_type": "display_data"
    }
   ],
   "source": [
    "import plotly.graph_objects as go\n",
    "import plotly.express as px\n",
    "\n",
    "index = 0\n",
    "count_list = []\n",
    "name_list = []\n",
    "\n",
    "for articles in df.articles:\n",
    "    count_list.append(len(articles))\n",
    "    name_list.append(df.iloc[index][0])\n",
    "    index += 1\n",
    "    \n",
    "fig_df = pd.DataFrame()\n",
    "fig_df[\"作物\"] = name_list\n",
    "fig_df[\"文章數量\"] = count_list\n",
    "\n",
    "fig = px.bar(fig_df, x=\"作物\", y=\"文章數量\", title=\"public 作物在文章出現數量\")\n",
    "fig.show()"
   ]
  },
  {
   "cell_type": "markdown",
   "id": "6ebe4697",
   "metadata": {},
   "source": [
    "### 第一層過濾\n",
    "\n",
    "初步判斷關鍵字的重疊度先形成第一階段的文章組合候選人"
   ]
  },
  {
   "cell_type": "code",
   "execution_count": 38,
   "id": "cf165de1",
   "metadata": {},
   "outputs": [],
   "source": [
    "# 讀取檔案內容\n",
    "def get_file_rows(fileNum):\n",
    "    file = open(f\"{currentFolder}/data/{fileNum}.csv\", \"r\")\n",
    "    rows = file.readlines()\n",
    "    file.close() \n",
    "    return rows"
   ]
  },
  {
   "cell_type": "code",
   "execution_count": 37,
   "id": "c4abfd63",
   "metadata": {},
   "outputs": [],
   "source": [
    "# 加入答案\n",
    "def add_to_result(item):\n",
    "    if(item not in test_result):\n",
    "        test_result.append(item)"
   ]
  },
  {
   "cell_type": "code",
   "execution_count": 35,
   "id": "22d08384",
   "metadata": {},
   "outputs": [],
   "source": [
    "# 把 疾病跟害蟲 分開\n",
    "def get_disease_pest(items):\n",
    "    disease, pest = [], []\n",
    "    for item in items:\n",
    "        if(\"病\" in item):\n",
    "            disease.append(item)\n",
    "        else:\n",
    "            pest.append(item)\n",
    "    return disease, pest"
   ]
  },
  {
   "cell_type": "code",
   "execution_count": 34,
   "id": "c455057c",
   "metadata": {},
   "outputs": [],
   "source": [
    "# 把化學藥劑關鍵字提取出來\n",
    "def convert_chem(row):\n",
    "    row = row.replace(\"\\n\", \"\")\n",
    "    if(row == \"\"):\n",
    "        return []\n",
    "    else:\n",
    "        return row.split(\",\")\n",
    "    return row"
   ]
  },
  {
   "cell_type": "code",
   "execution_count": 33,
   "id": "07dd0fc0",
   "metadata": {},
   "outputs": [],
   "source": [
    "# 比較兩篇文章的的化學藥劑相同數\n",
    "def count_chem_overlap(row1, row2):\n",
    "    item1 = convert_chem(row1)\n",
    "    item2 = convert_chem(row2)\n",
    "    count = 0\n",
    "    for item in item1:\n",
    "        if item in item2:\n",
    "            count += 1\n",
    "    return count"
   ]
  },
  {
   "cell_type": "code",
   "execution_count": 40,
   "id": "9f363813",
   "metadata": {},
   "outputs": [
    {
     "name": "stdout",
     "output_type": "stream",
     "text": [
      "finish: 1383\n"
     ]
    }
   ],
   "source": [
    "# read real answer\n",
    "answer_file = open(\"TrainLabel.csv\", \"r\")\n",
    "answer = answer_file.readlines()\n",
    "\n",
    "ans_dict = {}\n",
    "total_ans = 0\n",
    "for i in range(1, len(answer)):\n",
    "    items = answer[i].strip(\"\\n\").split(\",\")\n",
    "    test, reference = int(items[0]), int(items[1])\n",
    "    total_ans += 1\n",
    "    \n",
    "    if(test in ans_dict):\n",
    "        ans_dict[test].append(reference)\n",
    "    else:\n",
    "        ans_dict[test] = [reference]     \n",
    "\n",
    "print(\"finish:\", total_ans)"
   ]
  },
  {
   "cell_type": "code",
   "execution_count": 31,
   "id": "01eaf1cf",
   "metadata": {},
   "outputs": [],
   "source": [
    "def is_related(test1, test2):\n",
    "    \n",
    "    rows1 = get_file_rows(test1)\n",
    "    disease_pest1 = [] if rows1[1] == \"\\n\" else rows1[1].strip(\"\\n\").split(\",\")\n",
    "    chem1 = len(convert_chem(rows1[2]))\n",
    "\n",
    "    rows2 = get_file_rows(test2)\n",
    "    disease_pest2 = rows2[1].strip(\"\\n\").split(\",\")\n",
    "    chem2 = len(convert_chem(rows2[2]))\n",
    "\n",
    "    diseases1, pest1 = get_disease_pest(disease_pest1)\n",
    "    diseases2, pest2 = get_disease_pest(disease_pest2)\n",
    "\n",
    "    # 判斷疾病主題：如果疾病一樣，則代表有關聯\n",
    "    result = False\n",
    "    isDisease = False\n",
    "    DiseaseCount = 0\n",
    "    for disease in diseases1:\n",
    "        if(disease in diseases2):\n",
    "            isDisease = True\n",
    "            DiseaseCount += 1\n",
    "\n",
    "    # 判斷害蟲: 如果疾病+害蟲有重疊的話就算有關聯\n",
    "    count, isPest = 0, False\n",
    "    overlap = count_chem_overlap(rows1[2], rows2[2])\n",
    "    if(isDisease and DiseaseCount >= len(diseases1)-1):\n",
    "        for bug in pest1:\n",
    "            if(bug in pest2):  #  and overlap >= chem1/2\n",
    "                count += 1    \n",
    "        if(count != 0 and count >= len(pest1)/2 and len(pest1) != 0):\n",
    "            isPest = True\n",
    "            result = True\n",
    "            \n",
    "        # 沒有害蟲\n",
    "        elif(count == 0):\n",
    "            # 為了限縮可能的文章組合，針對 chem 關鍵字類別進行篩選取捨\n",
    "            if((chem1 != 0 and chem2 != 0) and (overlap >= chem1/2)):\n",
    "                result = True\n",
    "            elif(chem1 == 0 and chem2 == 0):\n",
    "                result = True\n",
    "    \n",
    "    # 沒有疾病: 害蟲指示需要相同\n",
    "    if(len(diseases1) == 0):\n",
    "        overlapCount = 0\n",
    "        for bug in pest1:\n",
    "            if(bug in pest2):\n",
    "                overlapCount += 1\n",
    "\n",
    "        if(overlapCount >= len(pest1)/2 and len(pest2) != 0 and overlap >= chem1/2): \n",
    "            result = True\n",
    "        \n",
    "        # 也沒有害蟲\n",
    "        if(overlapCount == 0 and len(pest1) == 0):\n",
    "            result = False\n",
    "\n",
    "    return result"
   ]
  },
  {
   "cell_type": "code",
   "execution_count": 46,
   "id": "0f1086a9",
   "metadata": {
    "scrolled": true
   },
   "outputs": [
    {
     "name": "stdout",
     "output_type": "stream",
     "text": [
      "finish: 5918\n"
     ]
    }
   ],
   "source": [
    "test_result = []\n",
    "\n",
    "for index in range(len(df)):\n",
    "    crop = df.iloc[index][0]\n",
    "    rice_articles = df.iloc[index][\"articles\"]\n",
    "    # 提及同個作物的文章相互比對\n",
    "    for test1 in rice_articles:\n",
    "        for test2 in rice_articles:\n",
    "            \n",
    "            if(test1 == test2):\n",
    "                continue\n",
    "            \n",
    "            ans = is_related(test1, test2)\n",
    "            if(ans):\n",
    "                add_to_result([test1, test2])\n",
    "\n",
    "print(\"finish:\", len(test_result))"
   ]
  },
  {
   "cell_type": "markdown",
   "id": "b5e96796",
   "metadata": {},
   "source": [
    "### 檢查答案\n",
    "for training data set"
   ]
  },
  {
   "cell_type": "code",
   "execution_count": 48,
   "id": "a7e2a98c",
   "metadata": {},
   "outputs": [],
   "source": [
    "# 獲取主要作物名稱\n",
    "def main_crop(fileNum):\n",
    "    rows = get_file_rows(fileNum)\n",
    "    item = rows[0].strip(\"\\n\").split(\",\")[0]\n",
    "    row2 = [] if rows[1] == \"\\n\" else rows[1].strip(\"\\n\").split(\",\")\n",
    "    return item"
   ]
  },
  {
   "cell_type": "code",
   "execution_count": 51,
   "id": "559561b6",
   "metadata": {},
   "outputs": [
    {
     "name": "stdout",
     "output_type": "stream",
     "text": [
      "[35, 75] (雜草 35 ->  75) not in predict answer.\n",
      "[35, 191] (雜草 35 ->  191) not in predict answer.\n",
      "[49, 95] (水稻 49 -> 水稻 95) not in predict answer.\n",
      "[66, 75] (雜草 66 ->  75) not in predict answer.\n",
      "[66, 191] (雜草 66 ->  191) not in predict answer.\n",
      "[73, 67] ( 73 -> 番石榴 67) not in predict answer.\n",
      "[73, 68] ( 73 -> 番石榴 68) not in predict answer.\n",
      "[75, 191] ( 75 ->  191) not in predict answer.\n",
      "[95, 27] (水稻 95 -> 水稻 27) not in predict answer.\n",
      "[95, 46] (水稻 95 -> 水稻 46) not in predict answer.\n",
      "[95, 49] (水稻 95 -> 水稻 49) not in predict answer.\n",
      "[95, 344] (水稻 95 -> 水稻 344) not in predict answer.\n",
      "[95, 375] (水稻 95 -> 水稻 375) not in predict answer.\n",
      "[95, 498] (水稻 95 -> 水稻 498) not in predict answer.\n",
      "[95, 505] (水稻 95 -> 水稻 505) not in predict answer.\n",
      "[95, 759] (水稻 95 -> 水稻 759) not in predict answer.\n",
      "[95, 790] (水稻 95 -> 水稻 790) not in predict answer.\n",
      "[107, 108] (瓜果類 107 ->  108) not in predict answer.\n",
      "[108, 107] ( 108 -> 瓜果類 107) not in predict answer.\n",
      "[121, 95] (水稻 121 -> 水稻 95) not in predict answer.\n",
      "[129, 95] (水稻 129 -> 水稻 95) not in predict answer.\n",
      "[163, 95] (水稻 163 -> 水稻 95) not in predict answer.\n",
      "[185, 819] ( 185 ->  819) not in predict answer.\n",
      "[188, 809] (水稻 188 ->  809) not in predict answer.\n",
      "[219, 800] (番茄 219 -> 水稻 800) not in predict answer.\n",
      "[289, 809] (水稻 289 ->  809) not in predict answer.\n",
      "[342, 442] (水稻 342 ->  442) not in predict answer.\n",
      "[375, 95] (水稻 375 -> 水稻 95) not in predict answer.\n",
      "[442, 850] ( 442 -> 水稻 850) not in predict answer.\n",
      "[465, 857] ( 465 -> 梨 857) not in predict answer.\n",
      "[471, 89](水稻 471 -> 水稻 89) reverse exist.\n",
      "[471, 442] (水稻 471 ->  442) not in predict answer.\n",
      "[471, 456] (水稻 471 -> 水稻 456) not in predict answer.\n",
      "[476, 95] (水稻 476 -> 水稻 95) not in predict answer.\n",
      "[510, 286] (水稻 510 -> 水稻 286) not in predict answer.\n",
      "[530, 442] (水稻 530 ->  442) not in predict answer.\n",
      "[542, 457](水稻 542 -> 水稻 457) reverse exist.\n",
      "[562, 95] (水稻 562 -> 水稻 95) not in predict answer.\n",
      "[628, 457] (水稻 628 -> 水稻 457) not in predict answer.\n",
      "[628, 546] (水稻 628 -> 水稻 546) not in predict answer.\n",
      "[645, 442] (水稻 645 ->  442) not in predict answer.\n",
      "[691, 95] (水稻 691 -> 水稻 95) not in predict answer.\n",
      "[740, 442] (水稻 740 ->  442) not in predict answer.\n",
      "[759, 95] (水稻 759 -> 水稻 95) not in predict answer.\n",
      "[790, 95] (水稻 790 -> 水稻 95) not in predict answer.\n",
      "[809, 188] ( 809 -> 水稻 188) not in predict answer.\n",
      "[809, 289] ( 809 -> 水稻 289) not in predict answer.\n",
      "[809, 296] ( 809 -> 水稻 296) not in predict answer.\n",
      "[809, 891] ( 809 -> 水稻 891) not in predict answer.\n",
      "[809, 1000] ( 809 -> 水稻 1000) not in predict answer.\n",
      "[809, 1005] ( 809 -> 水稻 1005) not in predict answer.\n",
      "[809, 1010] ( 809 -> 水稻 1010) not in predict answer.\n",
      "[809, 1023] ( 809 -> 水稻 1023) not in predict answer.\n",
      "[816, 95] (水稻 816 -> 水稻 95) not in predict answer.\n",
      "[817, 809] (水稻 817 ->  809) not in predict answer.\n",
      "[864, 887] (青蔥 864 ->  887) not in predict answer.\n",
      "[878, 969] ( 878 ->  969) not in predict answer.\n",
      "[892, 67] ( 892 -> 番石榴 67) not in predict answer.\n",
      "[892, 191] ( 892 ->  191) not in predict answer.\n",
      "[892, 899] ( 892 ->  899) not in predict answer.\n",
      "[892, 1037] ( 892 ->  1037) not in predict answer.\n",
      "[897, 898] ( 897 ->  898) not in predict answer.\n",
      "[898, 897] ( 898 ->  897) not in predict answer.\n",
      "[899, 67] ( 899 -> 番石榴 67) not in predict answer.\n",
      "[899, 191] ( 899 ->  191) not in predict answer.\n",
      "[899, 892] ( 899 ->  892) not in predict answer.\n",
      "[899, 1037] ( 899 ->  1037) not in predict answer.\n",
      "[911, 95] (水稻 911 -> 水稻 95) not in predict answer.\n",
      "[924, 887] (水稻 924 ->  887) not in predict answer.\n",
      "[936, 442] (水稻 936 ->  442) not in predict answer.\n",
      "[956, 951] (蘇鐵 956 -> 蘇鐵 951) not in predict answer.\n",
      "[969, 878] ( 969 ->  878) not in predict answer.\n",
      "[986, 27] (水稻 986 -> 水稻 27) not in predict answer.\n",
      "[986, 46] (水稻 986 -> 水稻 46) not in predict answer.\n",
      "[986, 49](水稻 986 -> 水稻 49) reverse exist.\n",
      "[986, 95] (水稻 986 -> 水稻 95) not in predict answer.\n",
      "[986, 129](水稻 986 -> 水稻 129) reverse exist.\n",
      "[986, 163](水稻 986 -> 水稻 163) reverse exist.\n",
      "[986, 375](水稻 986 -> 水稻 375) reverse exist.\n",
      "[986, 476](水稻 986 -> 水稻 476) reverse exist.\n",
      "[986, 478](水稻 986 -> 水稻 478) reverse exist.\n",
      "[986, 609] (水稻 986 -> 馬鈴薯 609) not in predict answer.\n",
      "[986, 691](水稻 986 -> 水稻 691) reverse exist.\n",
      "[986, 759](水稻 986 -> 水稻 759) reverse exist.\n",
      "[986, 790](水稻 986 -> 水稻 790) reverse exist.\n",
      "[986, 816](水稻 986 -> 水稻 816) reverse exist.\n",
      "[988, 286] (水稻 988 -> 水稻 286) not in predict answer.\n",
      "[988, 809] (水稻 988 ->  809) not in predict answer.\n",
      "[1010, 809] (水稻 1010 ->  809) not in predict answer.\n",
      "[1037, 67] ( 1037 -> 番石榴 67) not in predict answer.\n",
      "[1037, 191] ( 1037 ->  191) not in predict answer.\n",
      "[1041, 809] (水稻 1041 ->  809) not in predict answer.\n",
      "[1170, 1178] (蕉株 1170 -> 蕉農 1178) not in predict answer.\n",
      "[1178, 1170] (蕉農 1178 -> 蕉株 1170) not in predict answer.\n",
      "[1187, 1199] (蕉園 1187 -> 蕉農 1199) not in predict answer.\n",
      "[1187, 1207] (蕉園 1187 -> 蕉農 1207) not in predict answer.\n",
      "[1190, 1187] (蕉農 1190 -> 蕉園 1187) not in predict answer.\n",
      "[1194, 1187] (蕉農 1194 -> 蕉園 1187) not in predict answer.\n",
      "[1198, 1187] (香蕉 1198 -> 蕉園 1187) not in predict answer.\n",
      "[1199, 1187] (蕉農 1199 -> 蕉園 1187) not in predict answer.\n",
      "[1206, 1187] (蕉農 1206 -> 蕉園 1187) not in predict answer.\n",
      "[1207, 1187] (蕉農 1207 -> 蕉園 1187) not in predict answer.\n",
      "[1230, 1187] (蕉農 1230 -> 蕉園 1187) not in predict answer.\n",
      "[1232, 1187] (蕉農 1232 -> 蕉園 1187) not in predict answer.\n",
      "[1236, 1187] (蕉農 1236 -> 蕉園 1187) not in predict answer.\n",
      "[1243, 1187] (蕉農 1243 -> 蕉園 1187) not in predict answer.\n",
      "[1249, 1187] (蕉農 1249 -> 蕉園 1187) not in predict answer.\n",
      "[1261, 1234] (香蕉 1261 -> 蕉農 1234) not in predict answer.\n",
      "[1261, 1276] (香蕉 1261 -> 香蕉 1276) not in predict answer.\n",
      "[1261, 1282] (香蕉 1261 -> 香蕉 1282) not in predict answer.\n",
      "[1261, 1290] (香蕉 1261 -> 香蕉 1290) not in predict answer.\n",
      "[1261, 1298] (香蕉 1261 -> 香蕉 1298) not in predict answer.\n",
      "[1261, 1302] (香蕉 1261 -> 香蕉 1302) not in predict answer.\n",
      "[1261, 1305] (香蕉 1261 -> 香蕉 1305) not in predict answer.\n",
      "[1261, 1319] (香蕉 1261 -> 蕉農 1319) not in predict answer.\n",
      "[1261, 1323] (香蕉 1261 -> 蕉農 1323) not in predict answer.\n",
      "[1261, 1339] (香蕉 1261 -> 蕉農 1339) not in predict answer.\n",
      "[1261, 1350] (香蕉 1261 -> 蕉農 1350) not in predict answer.\n",
      "[1271, 179] (香蕉 1271 -> 果樹 179) not in predict answer.\n",
      "[1274, 1187] (香蕉 1274 -> 蕉園 1187) not in predict answer.\n",
      "[1301, 1170] (香蕉 1301 -> 蕉株 1170) not in predict answer.\n",
      "[1301, 1178] (香蕉 1301 -> 蕉農 1178) not in predict answer.\n",
      "[1301, 1304] (香蕉 1301 -> 香蕉 1304) not in predict answer.\n",
      "[1340, 1187] (蕉園 1340 -> 蕉園 1187) not in predict answer.\n",
      "[1341, 1170] (蕉園 1341 -> 蕉株 1170) not in predict answer.\n",
      "[1341, 1178] (蕉園 1341 -> 蕉農 1178) not in predict answer.\n",
      "-\n",
      "precision: 0.21240283879689084, (1257 / 5918)\n",
      "recall: 0.9088937093275488, (1257 / 1383)\n",
      "score: 0.3443363922750308\n",
      "reverse: 12 | not found: 114\n"
     ]
    }
   ],
   "source": [
    "reverse, true, error = 0, 0, 0\n",
    "trainLabelFile = open(\"train/trainLabelFile.csv\", \"w\") # record related, unrelated as training data\n",
    "trainLabelFile.write(\"Test,Reference,Label\\n\")\n",
    "\n",
    "for index in ans_dict:\n",
    "    articles = ans_dict[index]\n",
    "    for article in articles:\n",
    "\n",
    "        if([index, article] in test_result):\n",
    "            true += 1\n",
    "            trainLabelFile.write(f\"{index}, {article}, 1\\n\")  # related\n",
    "        else:\n",
    "            trainLabelFile.write(f\"{index}, {article}, 0\\n\")  # unrelated\n",
    "            \n",
    "            if([article, index] in test_result):\n",
    "                print(f\"[{index}, {article}]({main_crop(index)} {index} -> {main_crop(article)} {article}) reverse exist.\")\n",
    "                reverse += 1\n",
    "            else:\n",
    "                print(f\"[{index}, {article}] ({main_crop(index)} {index} -> {main_crop(article)} {article}) not in predict answer.\")\n",
    "                trainLabelFile.write(f\"{index}, {article}, 0\\n\")     \n",
    "                error += 1\n",
    "trainLabelFile.close()\n",
    "\n",
    "print(\"-\")\n",
    "precision = true / len(test_result)\n",
    "recall = true / (total_ans)\n",
    "score = 2 * (precision * recall) / (precision + recall)\n",
    "print(f\"precision: {precision}, ({true} / {len(test_result)})\")\n",
    "print(f\"recall: {recall}, ({true} / {total_ans})\")\n",
    "print(f\"score: {score}\")\n",
    "print(f\"reverse: {reverse} | not found: {error}\")"
   ]
  },
  {
   "cell_type": "code",
   "execution_count": 63,
   "id": "1f2362fb",
   "metadata": {},
   "outputs": [
    {
     "data": {
      "text/plain": [
       "False"
      ]
     },
     "execution_count": 63,
     "metadata": {},
     "output_type": "execute_result"
    }
   ],
   "source": [
    "is_related(95, 344) "
   ]
  },
  {
   "cell_type": "code",
   "execution_count": 61,
   "id": "0821ef63",
   "metadata": {},
   "outputs": [],
   "source": [
    "def display_file(num1, num2):\n",
    "    directory = f\"{currentFolder}/data{currentFolder.capitalize()}Complete/\"\n",
    "    file = open(directory + str(num1) + \".txt\", \"r\")\n",
    "    print(file.read())\n",
    "    file.close()\n",
    "    \n",
    "    print(\"- - -\")\n",
    "    \n",
    "    file = open(directory + str(num2) + \".txt\", \"r\")\n",
    "    print(file.read())\n",
    "    file.close()"
   ]
  },
  {
   "cell_type": "code",
   "execution_count": 59,
   "id": "1dd25127",
   "metadata": {},
   "outputs": [],
   "source": [
    "def get_file(num1, num2):\n",
    "    rows1 = get_file_rows(num1)\n",
    "    rows2 = get_file_rows(num2)\n",
    "    print(rows1)\n",
    "    print(rows2)"
   ]
  },
  {
   "cell_type": "code",
   "execution_count": 57,
   "id": "ebd78406",
   "metadata": {},
   "outputs": [],
   "source": [
    "def check(num1, num2):\n",
    "    display_file(num1, num2)\n",
    "    get_file(num1, num2)"
   ]
  },
  {
   "cell_type": "code",
   "execution_count": 66,
   "id": "d46ce934",
   "metadata": {
    "scrolled": true
   },
   "outputs": [
    {
     "name": "stdout",
     "output_type": "stream",
     "text": [
      "近日宜蘭防疫所監測縣內水稻田區，發現白葉枯病已現，籲請農民加強防範工作。宜蘭縣政府、防檢局及田邊好幫手關心您。\n",
      "一、近日因間歇性降雨，且隅有強風，宜蘭防疫所監測本縣員山鄉、五結鄉、冬山鄉、壯圍鄉、礁溪鄉等，部分水稻田區已有輕微白葉枯病發生，請貴管加強宣導農民掌握防治時機及適時防範，減少損失。二、水稻白葉枯病一般都發生在二期稻作，但遭受強風降雨數日，宜蘭一期稻作亦會發生，該病為一種系統性病害，主要危害葉片、葉鞘，偶有危害到穗部，病原菌由傷口或自然開口侵入，常沿葉緣一邊或兩邊，並向中肋擴大，最後到達葉鞘，黃色病斑最後變成白或灰白色；另一種病徵是水浸狀和暗綠色病徵出現不久，罹病葉片即向內捲，葉片上端被害部份凋並成灰白色，露水未乾時，細菌會溢泌在葉緣水孔形成菌泥，隨人員走動或雨水而傳播。高溫環境下，偶而會發生白葉枯病急速萎凋型病徵。\n",
      "一、勿剪除秧葉尖，以免病原菌由傷口侵入。施用炭化稻殼等含矽資材及減施氮肥以增強葉片強度，減少傷口之發生。二、避免偏用氮素肥料，發病地區儘量避免追施穗肥。三、雨後或晨露末乾前，避免進入稻田，以減少人為傳播。四、幼穗形成期前施用撲殺熱或於發病初期施用克枯爛、鏈四環黴素等，相關藥劑防治可參考防檢局農藥資訊服務網(https://pesticide.baphiq.gov.tw/)。\n",
      "\n",
      "- - -\n",
      "發布本(104)年度第二期作水稻白葉枯病發生預報。桃園區農改場、防檢局及田邊好幫手關心您。\n",
      "一、依據本場研究人員水稻疫情巡迴調查及杜鵑颱風過境影響，部份田區水稻白葉枯病發生已達預報發布標準，為有效控制病害發生，請儘速宣導水稻產銷班及稻農注意防治，確保稻作生產。二、檢附「水稻病蟲害發生預報」及「水稻白葉枯病發生與防治」如附件。\n",
      "參考植物保護手冊任選一種推薦藥劑加以防治。本病係細菌性病害，主要藉風雨傳播，氣溫25~30℃且遇強風豪雨，易引起葉緣黃白色波浪狀乾枯或葉脈黃白色條紋，嚴重時造成葉片枯捲。防治時應避免過量施用氮肥，晨間露水或下雨後水滴未乾前，避免進入稻田，以減少人為因素傳播病菌。\n",
      "\n",
      "['水稻\\n', '白葉枯病\\n', '撲殺熱,克枯爛,鏈四環黴素\\n', '宜蘭\\n']\n",
      "['水稻\\n', '白葉枯病\\n', '\\n', '桃園\\n']\n"
     ]
    }
   ],
   "source": [
    "check(816, 95) "
   ]
  },
  {
   "cell_type": "code",
   "execution_count": 68,
   "id": "a1c6102d",
   "metadata": {},
   "outputs": [
    {
     "name": "stdout",
     "output_type": "stream",
     "text": [
      "-\n"
     ]
    }
   ],
   "source": [
    "# record current training data status\n",
    "\n",
    "file = open(f\"{currentFolder}/lstm-train-label.csv\", \"w\")\n",
    "file.write(\"Test,Reference\\n\")\n",
    "\n",
    "for items in test_result:\n",
    "    item1, item2 = items[0], items[1]\n",
    "    label = 0\n",
    "    if(item1 in ans_dict and item2 in ans_dict[item1]):\n",
    "        label = 1\n",
    "    file.write(f\"{item1},{item2},{label}\\n\")\n",
    "\n",
    "file.close()\n",
    "print(\"-\")"
   ]
  },
  {
   "cell_type": "markdown",
   "id": "3dae8215",
   "metadata": {},
   "source": [
    "### 寫入初步答案\n",
    "for public, private data set"
   ]
  },
  {
   "cell_type": "code",
   "execution_count": null,
   "id": "a514f615",
   "metadata": {},
   "outputs": [],
   "source": [
    "currentFolder = \"public\""
   ]
  },
  {
   "cell_type": "code",
   "execution_count": 276,
   "id": "31a3c2cd",
   "metadata": {},
   "outputs": [
    {
     "name": "stdout",
     "output_type": "stream",
     "text": [
      "finish: 3257\n"
     ]
    }
   ],
   "source": [
    "# record candidates to file\n",
    "\n",
    "file = open(f\"{currentFolder}/all-candidate.csv\", \"w\")\n",
    "file.write(\"Test,Reference\\n\")\n",
    "for item in test_result:\n",
    "    file.write(f\"{item[0]},{item[1]}\\n\")\n",
    "file.close()\n",
    "print(\"finish:\", len(test_result))"
   ]
  }
 ],
 "metadata": {
  "kernelspec": {
   "display_name": "Python 3 (ipykernel)",
   "language": "python",
   "name": "python3"
  },
  "language_info": {
   "codemirror_mode": {
    "name": "ipython",
    "version": 3
   },
   "file_extension": ".py",
   "mimetype": "text/x-python",
   "name": "python",
   "nbconvert_exporter": "python",
   "pygments_lexer": "ipython3",
   "version": "3.8.12"
  }
 },
 "nbformat": 4,
 "nbformat_minor": 5
}
